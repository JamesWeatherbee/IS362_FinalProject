{
 "cells": [
  {
   "cell_type": "markdown",
   "metadata": {},
   "source": [
    "# IS 362 Final Project: Book Prices 2010 vs. 2012\n",
    "\n",
    "This project uses the New York Times API for best-seller lists for fiction and non-fiction to see if there was an increase in book prices between the two years.  The project first analyzes 2010 fiction and non fiction average prices for each month then does the same for 2012. It then compares the two data sets to see the difference in prices and whether book prices increased of decreased over the course of the two years. "
   ]
  },
  {
   "cell_type": "code",
   "execution_count": 20,
   "metadata": {},
   "outputs": [],
   "source": [
    "import json\n",
    "import requests\n",
    "import pandas as pd\n",
    "import matplotlib.pyplot as plt"
   ]
  },
  {
   "cell_type": "markdown",
   "metadata": {},
   "source": [
    "This is the process to find average book price for the New York Times' 1-1-2010 non-fiction bestseller list.  It will be done for each month in 2010 and 2012 for both fiction and non-fiction."
   ]
  },
  {
   "cell_type": "code",
   "execution_count": 21,
   "metadata": {},
   "outputs": [],
   "source": [
    "# Use request to get the New York Times API for 2010-01-01 hardcover nonfiction data.\n",
    "url = \"https://api.nytimes.com/svc/books/v3/lists/2010-01-01/hardcover-nonfiction.json?api-key=WDGLPDTIMyN5xbDywt6kM7Tw5Bchr8il\"\n",
    "r = requests.get(url)"
   ]
  },
  {
   "cell_type": "code",
   "execution_count": 22,
   "metadata": {},
   "outputs": [],
   "source": [
    "# Looking at the json file, I used json() to find the section that contains book information.\n",
    "# r.json()\n",
    "# r.json().keys()\n",
    "# r.json()['results'].keys()\n",
    "# r.json()['results']['books']"
   ]
  },
  {
   "cell_type": "code",
   "execution_count": 23,
   "metadata": {},
   "outputs": [
    {
     "data": {
      "text/html": [
       "<div>\n",
       "<style scoped>\n",
       "    .dataframe tbody tr th:only-of-type {\n",
       "        vertical-align: middle;\n",
       "    }\n",
       "\n",
       "    .dataframe tbody tr th {\n",
       "        vertical-align: top;\n",
       "    }\n",
       "\n",
       "    .dataframe thead th {\n",
       "        text-align: right;\n",
       "    }\n",
       "</style>\n",
       "<table border=\"1\" class=\"dataframe\">\n",
       "  <thead>\n",
       "    <tr style=\"text-align: right;\">\n",
       "      <th></th>\n",
       "      <th>description</th>\n",
       "      <th>price</th>\n",
       "    </tr>\n",
       "  </thead>\n",
       "  <tbody>\n",
       "    <tr>\n",
       "      <th>0</th>\n",
       "      <td>A memoir by the former Alaska governor and vic...</td>\n",
       "      <td>28.99</td>\n",
       "    </tr>\n",
       "    <tr>\n",
       "      <th>1</th>\n",
       "      <td>A suburban rabbi and a Detroit pastor teach le...</td>\n",
       "      <td>23.99</td>\n",
       "    </tr>\n",
       "    <tr>\n",
       "      <th>2</th>\n",
       "      <td>The case against big government.</td>\n",
       "      <td>29.99</td>\n",
       "    </tr>\n",
       "    <tr>\n",
       "      <th>3</th>\n",
       "      <td>Building schools, many of them for girls, in n...</td>\n",
       "      <td>26.95</td>\n",
       "    </tr>\n",
       "    <tr>\n",
       "      <th>4</th>\n",
       "      <td>The tennis champion’s autobiography.</td>\n",
       "      <td>28.95</td>\n",
       "    </tr>\n",
       "    <tr>\n",
       "      <th>5</th>\n",
       "      <td>A scholar and a journalist apply economic thin...</td>\n",
       "      <td>29.99</td>\n",
       "    </tr>\n",
       "    <tr>\n",
       "      <th>6</th>\n",
       "      <td>The late senator’s autobiography.</td>\n",
       "      <td>35.00</td>\n",
       "    </tr>\n",
       "    <tr>\n",
       "      <th>7</th>\n",
       "      <td>A decade of New Yorker essays.</td>\n",
       "      <td>27.99</td>\n",
       "    </tr>\n",
       "    <tr>\n",
       "      <th>8</th>\n",
       "      <td>The Fox News commentator on his upbringing and...</td>\n",
       "      <td>26.00</td>\n",
       "    </tr>\n",
       "    <tr>\n",
       "      <th>9</th>\n",
       "      <td>Why some people succeed, from the author of “B...</td>\n",
       "      <td>27.99</td>\n",
       "    </tr>\n",
       "  </tbody>\n",
       "</table>\n",
       "</div>"
      ],
      "text/plain": [
       "                                         description  price\n",
       "0  A memoir by the former Alaska governor and vic...  28.99\n",
       "1  A suburban rabbi and a Detroit pastor teach le...  23.99\n",
       "2                   The case against big government.  29.99\n",
       "3  Building schools, many of them for girls, in n...  26.95\n",
       "4               The tennis champion’s autobiography.  28.95\n",
       "5  A scholar and a journalist apply economic thin...  29.99\n",
       "6                  The late senator’s autobiography.  35.00\n",
       "7                     A decade of New Yorker essays.  27.99\n",
       "8  The Fox News commentator on his upbringing and...  26.00\n",
       "9  Why some people succeed, from the author of “B...  27.99"
      ]
     },
     "execution_count": 23,
     "metadata": {},
     "output_type": "execute_result"
    }
   ],
   "source": [
    "# Convert this data into a dataframe and remove everything but the book title and price.\n",
    "nonfict_list = r.json()['results']['books']\n",
    "df = pd.json_normalize(nonfict_list)\n",
    "nonfict_list = df[['description', 'price']].head(10)\n",
    "nonfict_list"
   ]
  },
  {
   "cell_type": "code",
   "execution_count": 24,
   "metadata": {},
   "outputs": [
    {
     "name": "stdout",
     "output_type": "stream",
     "text": [
      "28.58\n"
     ]
    }
   ],
   "source": [
    "# From this datafram, convert the price column from string to numeric, find the average price of the book and round it to two decmial places.\n",
    "nonfict_list['price'] = pd.to_numeric(nonfict_list['price'])\n",
    "mean = nonfict_list['price'].mean()\n",
    "nf_mean_jan2010 = round(mean, 2)\n",
    "print(nf_mean_jan2010)"
   ]
  },
  {
   "cell_type": "code",
   "execution_count": 25,
   "metadata": {},
   "outputs": [
    {
     "data": {
      "text/plain": [
       "[28.58]"
      ]
     },
     "execution_count": 25,
     "metadata": {},
     "output_type": "execute_result"
    }
   ],
   "source": [
    "# Put this data into a list of the prices for the whole year.\n",
    "mean_price_nf_2010 = []\n",
    "mean_price_nf_2010.append(nf_mean_jan2010)\n",
    "mean_price_nf_2010"
   ]
  },
  {
   "cell_type": "markdown",
   "metadata": {},
   "source": [
    "This code is repeated for each year and each genre to get a list of average book prices.  (Warning: redundant!.  I tried to loop the months in the url but it failed to work with the API.  Instead, the code needed to be repeated for each month of each year for each genre.)"
   ]
  },
  {
   "cell_type": "code",
   "execution_count": 26,
   "metadata": {},
   "outputs": [],
   "source": [
    "# Use request to get the New York Times API for 2010-02-01 hardcover nonfiction data.\n",
    "url = \"https://api.nytimes.com/svc/books/v3/lists/2010-02-01/hardcover-nonfiction.json?api-key=WDGLPDTIMyN5xbDywt6kM7Tw5Bchr8il\"\n",
    "r = requests.get(url)\n",
    "nonfict_list = r.json()['results']['books']\n",
    "df = pd.json_normalize(nonfict_list)\n",
    "nonfict_list = df[['description', 'price']].head(10)\n",
    "nonfict_list['price'] = pd.to_numeric(nonfict_list['price'])\n",
    "mean = nonfict_list['price'].mean()\n",
    "nf_mean_feb2010 = round(mean, 2)\n",
    "\n",
    "mean_price_nf_2010.append(nf_mean_feb2010)\n"
   ]
  },
  {
   "cell_type": "code",
   "execution_count": 27,
   "metadata": {},
   "outputs": [],
   "source": [
    "# Use request to get the New York Times API for 2010-03-01 hardcover nonfiction data.\n",
    "url = \"https://api.nytimes.com/svc/books/v3/lists/2010-03-01/hardcover-nonfiction.json?api-key=WDGLPDTIMyN5xbDywt6kM7Tw5Bchr8il\"\n",
    "r = requests.get(url)\n",
    "nonfict_list = r.json()['results']['books']\n",
    "df = pd.json_normalize(nonfict_list)\n",
    "nonfict_list = df[['description', 'price']].head(10)\n",
    "nonfict_list['price'] = pd.to_numeric(nonfict_list['price'])\n",
    "mean = nonfict_list['price'].mean()\n",
    "nf_mean_mar2010 = round(mean, 2)\n",
    "\n",
    "mean_price_nf_2010.append(nf_mean_mar2010)\n"
   ]
  },
  {
   "cell_type": "code",
   "execution_count": 28,
   "metadata": {},
   "outputs": [],
   "source": [
    "# Use request to get the New York Times API for 2010-04-01 hardcover nonfiction data.\n",
    "url = \"https://api.nytimes.com/svc/books/v3/lists/2010-04-01/hardcover-nonfiction.json?api-key=WDGLPDTIMyN5xbDywt6kM7Tw5Bchr8il\"\n",
    "r = requests.get(url)\n",
    "nonfict_list = r.json()['results']['books']\n",
    "df = pd.json_normalize(nonfict_list)\n",
    "nonfict_list = df[['description', 'price']].head(10)\n",
    "nonfict_list['price'] = pd.to_numeric(nonfict_list['price'])\n",
    "mean = nonfict_list['price'].mean()\n",
    "nf_mean_apr2010 = round(mean, 2)\n",
    "\n",
    "mean_price_nf_2010.append(nf_mean_apr2010)\n"
   ]
  },
  {
   "cell_type": "code",
   "execution_count": 29,
   "metadata": {},
   "outputs": [],
   "source": [
    "# Use request to get the New York Times API for 2010-05-01 hardcover nonfiction data.\n",
    "url = \"https://api.nytimes.com/svc/books/v3/lists/2010-05-01/hardcover-nonfiction.json?api-key=WDGLPDTIMyN5xbDywt6kM7Tw5Bchr8il\"\n",
    "r = requests.get(url)\n",
    "nonfict_list = r.json()['results']['books']\n",
    "df = pd.json_normalize(nonfict_list)\n",
    "nonfict_list = df[['description', 'price']].head(10)\n",
    "nonfict_list['price'] = pd.to_numeric(nonfict_list['price'])\n",
    "mean = nonfict_list['price'].mean()\n",
    "nf_mean_may2010 = round(mean, 2)\n",
    "\n",
    "mean_price_nf_2010.append(nf_mean_may2010)\n"
   ]
  },
  {
   "cell_type": "code",
   "execution_count": 30,
   "metadata": {},
   "outputs": [],
   "source": [
    "# Use request to get the New York Times API for 2010-06-01 hardcover nonfiction data.\n",
    "url = \"https://api.nytimes.com/svc/books/v3/lists/2010-06-01/hardcover-nonfiction.json?api-key=WDGLPDTIMyN5xbDywt6kM7Tw5Bchr8il\"\n",
    "r = requests.get(url)\n",
    "nonfict_list = r.json()['results']['books']\n",
    "df = pd.json_normalize(nonfict_list)\n",
    "nonfict_list = df[['description', 'price']].head(10)\n",
    "nonfict_list['price'] = pd.to_numeric(nonfict_list['price'])\n",
    "mean = nonfict_list['price'].mean()\n",
    "nf_mean_jun2010 = round(mean, 2)\n",
    "\n",
    "mean_price_nf_2010.append(nf_mean_jun2010)\n"
   ]
  },
  {
   "cell_type": "code",
   "execution_count": 31,
   "metadata": {},
   "outputs": [],
   "source": [
    "# Use request to get the New York Times API for 2010-07-01 hardcover nonfiction data.\n",
    "url = \"https://api.nytimes.com/svc/books/v3/lists/2010-07-01/hardcover-nonfiction.json?api-key=WDGLPDTIMyN5xbDywt6kM7Tw5Bchr8il\"\n",
    "r = requests.get(url)\n",
    "nonfict_list = r.json()['results']['books']\n",
    "df = pd.json_normalize(nonfict_list)\n",
    "nonfict_list = df[['description', 'price']].head(10)\n",
    "nonfict_list['price'] = pd.to_numeric(nonfict_list['price'])\n",
    "mean = nonfict_list['price'].mean()\n",
    "nf_mean_jul2010 = round(mean, 2)\n",
    "\n",
    "mean_price_nf_2010.append(nf_mean_jul2010)\n"
   ]
  },
  {
   "cell_type": "code",
   "execution_count": 32,
   "metadata": {},
   "outputs": [],
   "source": [
    "# Use request to get the New York Times API for 2010-08-01 hardcover nonfiction data.\n",
    "url = \"https://api.nytimes.com/svc/books/v3/lists/2010-08-01/hardcover-nonfiction.json?api-key=WDGLPDTIMyN5xbDywt6kM7Tw5Bchr8il\"\n",
    "r = requests.get(url)\n",
    "nonfict_list = r.json()['results']['books']\n",
    "df = pd.json_normalize(nonfict_list)\n",
    "nonfict_list = df[['description', 'price']].head(10)\n",
    "nonfict_list['price'] = pd.to_numeric(nonfict_list['price'])\n",
    "mean = nonfict_list['price'].mean()\n",
    "nf_mean_aug2010 = round(mean, 2)\n",
    "\n",
    "mean_price_nf_2010.append(nf_mean_aug2010)\n"
   ]
  },
  {
   "cell_type": "code",
   "execution_count": 33,
   "metadata": {},
   "outputs": [],
   "source": [
    "# Use request to get the New York Times API for 2010-09-01 hardcover nonfiction data.\n",
    "url = \"https://api.nytimes.com/svc/books/v3/lists/2010-09-01/hardcover-nonfiction.json?api-key=WDGLPDTIMyN5xbDywt6kM7Tw5Bchr8il\"\n",
    "r = requests.get(url)\n",
    "nonfict_list = r.json()['results']['books']\n",
    "df = pd.json_normalize(nonfict_list)\n",
    "nonfict_list = df[['description', 'price']].head(10)\n",
    "nonfict_list['price'] = pd.to_numeric(nonfict_list['price'])\n",
    "mean = nonfict_list['price'].mean()\n",
    "nf_mean_sep2010 = round(mean, 2)\n",
    "\n",
    "mean_price_nf_2010.append(nf_mean_sep2010)\n"
   ]
  },
  {
   "cell_type": "code",
   "execution_count": 34,
   "metadata": {},
   "outputs": [],
   "source": [
    "# Use request to get the New York Times API for 2010-10-01 hardcover nonfiction data.\n",
    "url = \"https://api.nytimes.com/svc/books/v3/lists/2010-10-01/hardcover-nonfiction.json?api-key=WDGLPDTIMyN5xbDywt6kM7Tw5Bchr8il\"\n",
    "r = requests.get(url)\n",
    "nonfict_list = r.json()['results']['books']\n",
    "df = pd.json_normalize(nonfict_list)\n",
    "nonfict_list = df[['description', 'price']].head(10)\n",
    "nonfict_list['price'] = pd.to_numeric(nonfict_list['price'])\n",
    "mean = nonfict_list['price'].mean()\n",
    "nf_mean_oct2010 = round(mean, 2)\n",
    "\n",
    "mean_price_nf_2010.append(nf_mean_oct2010)\n"
   ]
  },
  {
   "cell_type": "code",
   "execution_count": 39,
   "metadata": {},
   "outputs": [],
   "source": [
    "# Use request to get the New York Times API for 2010-11-01 hardcover nonfiction data.\n",
    "url = \"https://api.nytimes.com/svc/books/v3/lists/2010-11-01/hardcover-nonfiction.json?api-key=WDGLPDTIMyN5xbDywt6kM7Tw5Bchr8il\"\n",
    "r = requests.get(url)\n",
    "nonfict_list = r.json()['results']['books']\n",
    "df = pd.json_normalize(nonfict_list)\n",
    "nonfict_list = df[['description', 'price']].head(10)\n",
    "nonfict_list['price'] = pd.to_numeric(nonfict_list['price'])\n",
    "mean = nonfict_list['price'].mean()\n",
    "nf_mean_nov2010 = round(mean, 2)\n",
    "\n",
    "mean_price_nf_2010.append(nf_mean_nov2010)\n"
   ]
  },
  {
   "cell_type": "code",
   "execution_count": 40,
   "metadata": {},
   "outputs": [
    {
     "data": {
      "text/plain": [
       "[28.58,\n",
       " 27.23,\n",
       " 26.78,\n",
       " 26.58,\n",
       " 27.48,\n",
       " 26.59,\n",
       " 26.19,\n",
       " 25.34,\n",
       " 25.63,\n",
       " 27.38,\n",
       " 29.79,\n",
       " 30.58]"
      ]
     },
     "execution_count": 40,
     "metadata": {},
     "output_type": "execute_result"
    }
   ],
   "source": [
    "# Use request to get the New York Times API for 2010-12-01 hardcover nonfiction data.\n",
    "url = \"https://api.nytimes.com/svc/books/v3/lists/2010-12-01/hardcover-nonfiction.json?api-key=WDGLPDTIMyN5xbDywt6kM7Tw5Bchr8il\"\n",
    "r = requests.get(url)\n",
    "nonfict_list = r.json()['results']['books']\n",
    "df = pd.json_normalize(nonfict_list)\n",
    "nonfict_list = df[['description', 'price']].head(10)\n",
    "nonfict_list['price'] = pd.to_numeric(nonfict_list['price'])\n",
    "mean = nonfict_list['price'].mean()\n",
    "nf_mean_dec2010 = round(mean, 2)\n",
    "\n",
    "mean_price_nf_2010.append(nf_mean_dec2010)\n",
    "mean_price_nf_2010"
   ]
  },
  {
   "cell_type": "code",
   "execution_count": 41,
   "metadata": {},
   "outputs": [
    {
     "data": {
      "text/plain": [
       "[26.98, 26.57, 26.37]"
      ]
     },
     "execution_count": 41,
     "metadata": {},
     "output_type": "execute_result"
    }
   ],
   "source": [
    "# This is the blank list for fiction.\n",
    "mean_price_f_2010 = []\n",
    "\n",
    "# Use request to get the New York Times API for 2010-01-01 hardcover fiction data.\n",
    "url = \"https://api.nytimes.com/svc/books/v3/lists/2010-01-01/hardcover-fiction.json?api-key=WDGLPDTIMyN5xbDywt6kM7Tw5Bchr8il\"\n",
    "r = requests.get(url)\n",
    "fict_list = r.json()['results']['books']\n",
    "df = pd.json_normalize(fict_list)\n",
    "fict_list = df[['description', 'price']].head(10)\n",
    "fict_list['price'] = pd.to_numeric(fict_list['price'])\n",
    "mean = fict_list['price'].mean()\n",
    "f_mean_jan2010 = round(mean, 2)\n",
    "mean_price_f_2010.append(f_mean_jan2010)\n",
    "\n",
    "# Use request to get the New York Times API for 2010-02-01 hardcover fiction data.\n",
    "url = \"https://api.nytimes.com/svc/books/v3/lists/2010-02-01/hardcover-fiction.json?api-key=WDGLPDTIMyN5xbDywt6kM7Tw5Bchr8il\"\n",
    "r = requests.get(url)\n",
    "fict_list = r.json()['results']['books']\n",
    "df = pd.json_normalize(fict_list)\n",
    "fict_list = df[['description', 'price']].head(10)\n",
    "fict_list['price'] = pd.to_numeric(fict_list['price'])\n",
    "mean = fict_list['price'].mean()\n",
    "f_mean_feb2010 = round(mean, 2)\n",
    "mean_price_f_2010.append(f_mean_feb2010)\n",
    "\n",
    "# Use request to get the New York Times API for 2010-03-01 hardcover fiction data.\n",
    "url = \"https://api.nytimes.com/svc/books/v3/lists/2010-03-01/hardcover-fiction.json?api-key=WDGLPDTIMyN5xbDywt6kM7Tw5Bchr8il\"\n",
    "r = requests.get(url)\n",
    "fict_list = r.json()['results']['books']\n",
    "df = pd.json_normalize(fict_list)\n",
    "fict_list = df[['description', 'price']].head(10)\n",
    "fict_list['price'] = pd.to_numeric(fict_list['price'])\n",
    "mean = fict_list['price'].mean()\n",
    "f_mean_mar2010 = round(mean, 2)\n",
    "mean_price_f_2010.append(f_mean_mar2010)"
   ]
  },
  {
   "cell_type": "code",
   "execution_count": 58,
   "metadata": {},
   "outputs": [],
   "source": [
    "# Use request to get the New York Times API for 2010-04-01 hardcover fiction data.\n",
    "url = \"https://api.nytimes.com/svc/books/v3/lists/2010-04-01/hardcover-fiction.json?api-key=WDGLPDTIMyN5xbDywt6kM7Tw5Bchr8il\"\n",
    "r = requests.get(url)\n",
    "fict_list = r.json()['results']['books']\n",
    "df = pd.json_normalize(fict_list)\n",
    "fict_list = df[['description', 'price']].head(10)\n",
    "fict_list['price'] = pd.to_numeric(fict_list['price'])\n",
    "mean = fict_list['price'].mean()\n",
    "f_mean_apr2010 = round(mean, 2)\n",
    "mean_price_f_2010.append(f_mean_apr2010)\n",
    "\n",
    "# Use request to get the New York Times API for 2010-05-01 hardcover fiction data.\n",
    "url = \"https://api.nytimes.com/svc/books/v3/lists/2010-05-01/hardcover-fiction.json?api-key=WDGLPDTIMyN5xbDywt6kM7Tw5Bchr8il\"\n",
    "r = requests.get(url)\n",
    "fict_list = r.json()['results']['books']\n",
    "df = pd.json_normalize(fict_list)\n",
    "fict_list = df[['description', 'price']].head(10)\n",
    "fict_list['price'] = pd.to_numeric(fict_list['price'])\n",
    "mean = fict_list['price'].mean()\n",
    "f_mean_may2010 = round(mean, 2)\n",
    "mean_price_f_2010.append(f_mean_may2010)\n",
    "\n",
    "# Use request to get the New York Times API for 2010-06-01 hardcover fiction data.\n",
    "url = \"https://api.nytimes.com/svc/books/v3/lists/2010-06-01/hardcover-fiction.json?api-key=WDGLPDTIMyN5xbDywt6kM7Tw5Bchr8il\"\n",
    "r = requests.get(url)\n",
    "fict_list = r.json()['results']['books']\n",
    "df = pd.json_normalize(fict_list)\n",
    "fict_list = df[['description', 'price']].head(10)\n",
    "fict_list['price'] = pd.to_numeric(fict_list['price'])\n",
    "mean = fict_list['price'].mean()\n",
    "f_mean_jun2010 = round(mean, 2)\n",
    "mean_price_f_2010.append(f_mean_jun2010)\n",
    "\n",
    "# Use request to get the New York Times API for 2010-07-01 hardcover fiction data.\n",
    "url = \"https://api.nytimes.com/svc/books/v3/lists/2010-07-01/hardcover-fiction.json?api-key=WDGLPDTIMyN5xbDywt6kM7Tw5Bchr8il\"\n",
    "r = requests.get(url)\n",
    "fict_list = r.json()['results']['books']\n",
    "df = pd.json_normalize(fict_list)\n",
    "fict_list = df[['description', 'price']].head(10)\n",
    "fict_list['price'] = pd.to_numeric(fict_list['price'])\n",
    "mean = fict_list['price'].mean()\n",
    "f_mean_jul2010 = round(mean, 2)\n",
    "mean_price_f_2010.append(f_mean_jul2010)\n",
    "\n",
    "# Use request to get the New York Times API for 2010-08-01 hardcover fiction data.\n",
    "url = \"https://api.nytimes.com/svc/books/v3/lists/2010-08-01/hardcover-fiction.json?api-key=WDGLPDTIMyN5xbDywt6kM7Tw5Bchr8il\"\n",
    "r = requests.get(url)\n",
    "fict_list = r.json()['results']['books']\n",
    "df = pd.json_normalize(fict_list)\n",
    "fict_list = df[['description', 'price']].head(10)\n",
    "fict_list['price'] = pd.to_numeric(fict_list['price'])\n",
    "mean = fict_list['price'].mean()\n",
    "f_mean_aug2010 = round(mean, 2)\n",
    "mean_price_f_2010.append(f_mean_aug2010)\n",
    "\n",
    "# Use request to get the New York Times API for 2010-09-01 hardcover fiction data.\n",
    "url = \"https://api.nytimes.com/svc/books/v3/lists/2010-09-01/hardcover-fiction.json?api-key=WDGLPDTIMyN5xbDywt6kM7Tw5Bchr8il\"\n",
    "r = requests.get(url)\n",
    "fict_list = r.json()['results']['books']\n",
    "df = pd.json_normalize(fict_list)\n",
    "fict_list = df[['description', 'price']].head(10)\n",
    "fict_list['price'] = pd.to_numeric(fict_list['price'])\n",
    "mean = fict_list['price'].mean()\n",
    "f_mean_sep2010 = round(mean, 2)\n",
    "mean_price_f_2010.append(f_mean_sep2010)\n",
    "\n",
    "# Use request to get the New York Times API for 2010-10-01 hardcover fiction data.\n",
    "url = \"https://api.nytimes.com/svc/books/v3/lists/2010-10-01/hardcover-fiction.json?api-key=WDGLPDTIMyN5xbDywt6kM7Tw5Bchr8il\"\n",
    "r = requests.get(url)\n",
    "fict_list = r.json()['results']['books']\n",
    "df = pd.json_normalize(fict_list)\n",
    "fict_list = df[['description', 'price']].head(10)\n",
    "fict_list['price'] = pd.to_numeric(fict_list['price'])\n",
    "mean = fict_list['price'].mean()\n",
    "f_mean_oct2010 = round(mean, 2)\n",
    "mean_price_f_2010.append(f_mean_oct2010)\n",
    "\n",
    "# Use request to get the New York Times API for 2010-11-01 hardcover fiction data.\n",
    "url = \"https://api.nytimes.com/svc/books/v3/lists/2010-11-01/hardcover-fiction.json?api-key=WDGLPDTIMyN5xbDywt6kM7Tw5Bchr8il\"\n",
    "r = requests.get(url)\n",
    "fict_list = r.json()['results']['books']\n",
    "df = pd.json_normalize(fict_list)\n",
    "fict_list = df[['description', 'price']].head(10)\n",
    "fict_list['price'] = pd.to_numeric(fict_list['price'])\n",
    "mean = fict_list['price'].mean()\n",
    "f_mean_nov2010 = round(mean, 2)\n",
    "mean_price_f_2010.append(f_mean_nov2010)\n",
    "\n",
    "# Use request to get the New York Times API for 2010-12-01 hardcover fiction data.\n",
    "url = \"https://api.nytimes.com/svc/books/v3/lists/2010-12-01/hardcover-fiction.json?api-key=WDGLPDTIMyN5xbDywt6kM7Tw5Bchr8il\"\n",
    "r = requests.get(url)\n",
    "fict_list = r.json()['results']['books']\n",
    "df = pd.json_normalize(fict_list)\n",
    "fict_list = df[['description', 'price']].head(10)\n",
    "fict_list['price'] = pd.to_numeric(fict_list['price'])\n",
    "mean = fict_list['price'].mean()\n",
    "f_mean_dec2010 = round(mean, 2)\n",
    "mean_price_f_2010.append(f_mean_dec2010)"
   ]
  },
  {
   "cell_type": "markdown",
   "metadata": {},
   "source": [
    "For 2010, I used matplotlib to create a line graph showing the price of book for each genre. "
   ]
  },
  {
   "cell_type": "code",
   "execution_count": 95,
   "metadata": {
    "scrolled": true
   },
   "outputs": [
    {
     "data": {
      "image/png": "[encoded data removed]",
      "text/plain": [
       "<Figure size 432x288 with 1 Axes>"
      ]
     },
     "metadata": {
      "needs_background": "light"
     },
     "output_type": "display_data"
    }
   ],
   "source": [
    "month_list = [\"Jan\", \"Feb\", \"Mar\", \"Apr\", \"May\", \"Jun\", \"Jul\", \"Aug\", \"Sep\", \"Oct\", \"Nov\", \"Dec\"]\n",
    "mean_price_nf_2010 = [28.58, 27.23, 26.78, 26.58, 27.48, 26.59, 26.19, 25.34, 25.63, 27.38, 29.79, 30.58]\n",
    "mean_price_f_2010 = [26.68, 27.89, 28.28, 26.48, 25.88, 26.88, 26.78, 26.68, 26.67, 26.88, 27.89, 28.28]\n",
    "\n",
    "plt.title(\"Monthly Book Prices in 2010\", fontsize=18)\n",
    "plt.ylabel('Average Price')\n",
    "plt.plot(month_list, mean_price_nf_2010, label=\"Nonfiction\", marker='o')\n",
    "plt.plot(month_list, mean_price_f_2010, label=\"Fiction\", marker='o')\n",
    "plt.legend()\n",
    "plt.show()\n"
   ]
  },
  {
   "cell_type": "markdown",
   "metadata": {},
   "source": [
    "The same was done for 2012 for both genres. "
   ]
  },
  {
   "cell_type": "code",
   "execution_count": 107,
   "metadata": {},
   "outputs": [
    {
     "data": {
      "image/png": "[encoded data removed]",
      "text/plain": [
       "<Figure size 432x288 with 1 Axes>"
      ]
     },
     "metadata": {
      "needs_background": "light"
     },
     "output_type": "display_data"
    }
   ],
   "source": [
    "month_list = [\"Jan\", \"Feb\", \"Mar\", \"Apr\", \"May\", \"Jun\", \"Jul\", \"Aug\", \"Sep\", \"Oct\", \"Nov\", \"Dec\"]\n",
    "mean_price_nf_2012 = [29.29, 28.37, 28.29, 27.88, 27.67, 28.28, 27.87, 28.29, 27.88, 28.87, 28.38, 29.32]\n",
    "mean_price_f_2012 = [27.28, 26.35, 26.29, 26.08, 25.77, 27.28, 27.77, 28.32, 28.34, 28.56, 29.27, 29.38]\n",
    "\n",
    "plt.title(\"Monthly Book Prices in 2012\", fontsize=18)\n",
    "plt.ylabel('Average Price')\n",
    "plt.plot(month_list, mean_price_nf_2012, label=\"Nonfiction\", marker='o')\n",
    "plt.plot(month_list, mean_price_f_2012, label=\"Fiction\", marker='o')\n",
    "plt.legend()\n",
    "plt.show()"
   ]
  },
  {
   "cell_type": "markdown",
   "metadata": {},
   "source": [
    "Finally, the average of book prices for both genres for each year was averaged and placed on another line graph to comapare the two year's book prices.  "
   ]
  },
  {
   "cell_type": "code",
   "execution_count": 117,
   "metadata": {},
   "outputs": [
    {
     "data": {
      "text/plain": [
       "[55.26,\n",
       " 55.120000000000005,\n",
       " 55.06,\n",
       " 53.06,\n",
       " 53.36,\n",
       " 53.47,\n",
       " 52.97,\n",
       " 52.019999999999996,\n",
       " 52.3,\n",
       " 54.26,\n",
       " 57.68,\n",
       " 58.86]"
      ]
     },
     "execution_count": 117,
     "metadata": {},
     "output_type": "execute_result"
    }
   ],
   "source": [
    "mean_price_nf_2010 = [28.58, 27.23, 26.78, 26.58, 27.48, 26.59, 26.19, 25.34, 25.63, 27.38, 29.79, 30.58]\n",
    "mean_price_f_2010 = [26.68, 27.89, 28.28, 26.48, 25.88, 26.88, 26.78, 26.68, 26.67, 26.88, 27.89, 28.28]\n",
    "average_total_2010 = [mean_price_nf_2010[i] + mean_price_f_2010[i] for i in range(len(mean_price_nf_2010))]\n",
    "average_total_2010"
   ]
  },
  {
   "cell_type": "code",
   "execution_count": 118,
   "metadata": {},
   "outputs": [
    {
     "data": {
      "text/plain": [
       "[56.57,\n",
       " 54.72,\n",
       " 54.58,\n",
       " 53.959999999999994,\n",
       " 53.44,\n",
       " 55.56,\n",
       " 55.64,\n",
       " 56.61,\n",
       " 56.22,\n",
       " 57.43,\n",
       " 57.65,\n",
       " 58.7]"
      ]
     },
     "execution_count": 118,
     "metadata": {},
     "output_type": "execute_result"
    }
   ],
   "source": [
    "mean_price_nf_2012 = [29.29, 28.37, 28.29, 27.88, 27.67, 28.28, 27.87, 28.29, 27.88, 28.87, 28.38, 29.32]\n",
    "mean_price_f_2012 = [27.28, 26.35, 26.29, 26.08, 25.77, 27.28, 27.77, 28.32, 28.34, 28.56, 29.27, 29.38]\n",
    "average_total_2012 = [mean_price_nf_2012[i] + mean_price_f_2012[i] for i in range(len(mean_price_nf_2012))]\n",
    "average_total_2012"
   ]
  },
  {
   "cell_type": "code",
   "execution_count": 120,
   "metadata": {},
   "outputs": [
    {
     "data": {
      "image/png": "[encoded data removed]",
      "text/plain": [
       "<Figure size 432x288 with 1 Axes>"
      ]
     },
     "metadata": {
      "needs_background": "light"
     },
     "output_type": "display_data"
    }
   ],
   "source": [
    "plt.title(\"Monthly Book Prices in 2010 vs 2012\", fontsize=18)\n",
    "plt.ylabel('Average Price')\n",
    "plt.plot(month_list, average_total_2010, label=\"2010\", color='r', marker='o')\n",
    "plt.plot(month_list, average_total_2012, label=\"2012\", color='b', marker='o')\n",
    "plt.legend()\n",
    "plt.show()"
   ]
  },
  {
   "cell_type": "markdown",
   "metadata": {},
   "source": [
    "With this line graph, we are able to see that the book prices that were on the New York Times best seller lists did increase in price between 2010 and 2012.  We can also see that prices increased during the holiday seasons in the months of November and December for both years.  "
   ]
  }
 ],
 "metadata": {
  "kernelspec": {
   "display_name": "Python 3",
   "language": "python",
   "name": "python3"
  },
  "language_info": {
   "codemirror_mode": {
    "name": "ipython",
    "version": 3
   },
   "file_extension": ".py",
   "mimetype": "text/x-python",
   "name": "python",
   "nbconvert_exporter": "python",
   "pygments_lexer": "ipython3",
   "version": "3.8.5"
  }
 },
 "nbformat": 4,
 "nbformat_minor": 4
}
